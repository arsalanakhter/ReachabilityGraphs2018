{
 "cells": [
  {
   "cell_type": "markdown",
   "metadata": {
    "nbpresent": {
     "id": "34bc9e52-9cc7-4b84-9eb7-b69310832121"
    }
   },
   "source": [
    "# A Mixed Integer Programming Model for Timed Deliveries in Multirobot Systems"
   ]
  },
  {
   "cell_type": "markdown",
   "metadata": {},
   "source": [
    "#### Nitin Kamra and Nora Ayanian"
   ]
  },
  {
   "cell_type": "markdown",
   "metadata": {},
   "source": [
    "## Problem Description"
   ]
  },
  {
   "cell_type": "markdown",
   "metadata": {},
   "source": [
    "Consider a 2-D grid with a control center at the origin O(0, 0), $m$ delivery robots and $n$ task robots whose locations\n",
    "are described relative to the control center.\n",
    "\n",
    "New incoming delivery requests from task robots are collected and added to a list of requests. Requests are processed to keep track of “resource cycles” for robots that periodically need resources with a fixed lifespan e.g., batteries.\n",
    "\n",
    "We seek to generate a schedule for delivery robots to serve the maximum number of requests possible, while both minimizing the offset from expected delivery times and taking task robot priorities into account."
   ]
  },
  {
   "cell_type": "markdown",
   "metadata": {},
   "source": [
    "## Model Formulation"
   ]
  },
  {
   "cell_type": "markdown",
   "metadata": {},
   "source": [
    "### Sets"
   ]
  },
  {
   "cell_type": "markdown",
   "metadata": {
    "collapsed": true
   },
   "source": [
    "- $K$: Set of delivery robots. $|K| = M$.\n",
    "- $T$ : Set of task robots. $|T| = N$.\n",
    "- $V = K \\cup T$. $|V|=M+N$.\n",
    "\n",
    "All elements of $V$ are added to the graph $G$ as nodes.\n",
    "\n",
    "Two nodes, located at the control center, are also added to $G$. These nodes are called $Start(\\alpha)$ and $End(\\omega)$. Delivery robots are assumed to begin at the start node $Start(\\alpha)$. At the end of the time window, all delivery robots must return to the end node $End(\\omega)$.\n",
    "\n",
    "Hence the full set of nodes is $M+N+2$, denoted by $\\mathcal{N}$.\n",
    "\n",
    "\n",
    "Now, within these nodes:\n",
    "- All task robots $T$ have directed edges to each other and to $End$ node (with weight $t_{ij} = d_{ij}/v$) .\n",
    "- $Start$ node has edges leading to all delivery robots, which are considered pre-traversed ($t_{\\alpha k}=0$).\n",
    "- Each delivery robot has an edge to each task robot and to $End$ node."
   ]
  },
  {
   "cell_type": "markdown",
   "metadata": {},
   "source": [
    "### Parameters"
   ]
  },
  {
   "cell_type": "markdown",
   "metadata": {},
   "source": [
    "- $t_{ij}$ : Time to travel from node $i$ to node $j$.\n",
    "- $\\tau_i$ : Time when $i^{th}$ task robot requires delivery.\n",
    "- $T_s$ : Minimum stay time for a delivery robot to make a delivery; they may stay longer if needed. Can be increased to allow small movements of task robots.\n",
    "- $C^k$ : Maximum carrying capacity of the $k^th$ delivery robot.\n",
    "- $c^k$ : No. of resources already delivered by $k^{th}$ delivery robot during this time window.\n",
    "- $B^k$ : Fraction of total battery power remaining on the $k^{th}$ delivery robot.\n",
    "- $B^k_r$ : Average battery usage per unit distance travelled for the $k^{th}$ delivery robot, as fraction of total battery power.\n",
    "- $p_i \\in [0,1]$ : Priority of task robot $i$.\n",
    "- $T_{A,i}$ : Advance delivery time for $i^{th}$ task robot.\n",
    "- $Z$ : A very large positive constant.\n",
    "- $T_{start}$ : Time at which dispatch begins.\n",
    "- $T_W$ : Length of current time window.\n",
    "- $t_{bound}$ : Final time by which all delivery robots must reach the $End$ node. We set $t_{bound} = 3T_W/2$\n",
    "- $\\lambda$ : Control parameter governing the trade-off in the objective function."
   ]
  },
  {
   "cell_type": "markdown",
   "metadata": {},
   "source": [
    "### Variables"
   ]
  },
  {
   "cell_type": "markdown",
   "metadata": {},
   "source": [
    "A single scheduling window is considered as one optimization problem on the graph $G$.\n",
    "\n",
    "The variables are:\n",
    "\n",
    "- $x_{ij}^k \\in {0,1}$ : Binary. '$1$' only if $k^{th}$ delivery robot travels from node $i$ to $j$.\n",
    "- $a_i \\in \\mathbb{R}^+$ : Arrival time at node $i \\in (V - K)$\n",
    "- $d_i \\in \\mathbb{R}^+$ : Departure time from node $i \\in V$ "
   ]
  },
  {
   "cell_type": "markdown",
   "metadata": {
    "collapsed": true
   },
   "source": [
    "### Objective function\n",
    "\n",
    "$$\\min\\limits_{x, a, d} \\{f_{time}(d) + \\lambda f_{travel}(x,a,d)\\}        \\tag{1}$$\n",
    "\n",
    "where\n",
    "\n",
    "$$f_{time}(d) = \\sum\\limits_{i \\in (V-K)}p_i(d_i - ( \\tau_i - T_{A,i}))^2$$\n",
    "\n",
    "and\n",
    "\n",
    "$$f_{travel}(x,a,d) = \\sum\\limits_{k \\in K}\\left(\\sum_{\\substack{(i,j) \\in E \\\\ j \\neq \\omega}} x_{ij}^k(a_j -di) + \\sum_{\\substack{(i,j) \\in E \\\\ j = \\omega}} x_{ij}^kt_{ij}\\right)$$"
   ]
  },
  {
   "cell_type": "markdown",
   "metadata": {
    "collapsed": true
   },
   "source": [
    "### Constraints"
   ]
  },
  {
   "cell_type": "markdown",
   "metadata": {
    "collapsed": true
   },
   "source": [
    "#### Path Continuity Constraints:\n",
    "\n",
    "- Each node $i$ should be visited by either only exactly 1 delivery robot or none.\n",
    "\n",
    "$$\\sum_{k \\in K} \\sum_{j \\in V \\cup \\{w\\}} x_{ij}^k \\leq 1 \\quad \\forall i \\in V \\tag{2}$$\n",
    "\n",
    "Allowing no visits provides flexibility if all nodes couldn't be served in the given time window.\n",
    "\n",
    "- Impose pre-traversal from $Start$ node for each delivery robot.\n",
    "\n",
    "$$x_{\\alpha k} = 1 \\quad \\forall k \\in K \\tag {3}$$\n",
    "\n",
    "- Require delivery robots to arrive at $End$ nodes.\n",
    "\n",
    "$$\\sum_{i \\in V} x^k_{i\\omega} = 1 \\quad \\forall k \\in K \\tag {4}$$\n",
    "\n",
    "- If a delivery robot enters a node $h$, it should leave node $h$.\n",
    "\n",
    "$$\\sum_{i \\in \\{\\alpha\\} \\cup V} x_{ih}^k = \\sum_{j \\in \\{V - K\\} \\cup \\omega} x_{hj}^k, \\quad \\forall h \\in V, \\forall k \\in K \\tag{4} $$"
   ]
  },
  {
   "cell_type": "markdown",
   "metadata": {
    "collapsed": true
   },
   "source": [
    "#### TIme Flow Constraints:\n",
    "\n",
    "- Arrival and departure times by the delivery robot at a task robot node should differ by at least $T_s$ to swap battery.\n",
    "\n",
    "$$a_i - d_i + T_s \\leq 0 \\quad \\forall i \\in (V-K) \\tag{6}$$\n",
    "\n",
    "- Departure from node $i$ and arrival at node $j$ must differ by at least the time $t_{ij}$ it takes to traverse the edge .\n",
    "\n",
    "$$d_i - a_j + t_{ij} \\leq Z \\left(1 - \\sum_{k \\in K}x_{ij}^k  \\right) \\quad \\forall (i,j) \\in E, j\\neq \\omega \\tag{7}$$\n",
    "\n",
    "Large positive constant $Z$ ensures that if $(i, j)$ is not being traversed, the constraint is trivially satisfied.\n",
    "\n",
    "- Bound arrival and departure times. $t_{bound} > T_W$ gives delivery robots sufficient time to return bcak to control center.\n",
    "\n",
    "$$T_{start} \\leq a_i \\leq T_{start} + t_{bound} \\quad \\forall i \\in (V-K) \\tag{8}$$\n",
    "\n",
    "$$T_{start} \\leq d_i \\leq T_{start} + t_{bound} \\quad \\forall i \\in V \\tag{9}$$\n",
    "\n",
    "- $(10)$ coupled with $(9)$, ensure that departure time for node $i$ that is not visited by any delivery robot is $T_{start} + t_{bound}$. This also penalizes heavily for not serving robot $i$.\n",
    "\n",
    "$$T_{start} + t_{bound}\\left(1-\\sum_{k \\in K} \\sum_{j \\in V \\cup \\omega} x_{ij}^k \\right) \\leq d_i \\quad \\forall i \\in V \\tag{10}$$\n",
    "\n",
    "- A delivery robot returning directly to the control center should start immediately at the begining of dispatch.\n",
    "\n",
    "$$d_k - Z(1-x^k_{k\\omega}) \\leq T_{start} \\quad \\forall k \\in K \\tag{11}$$\n",
    "\n",
    "without this constraint, delivery robots directly returning to the control center will have their departure time set as $T_{start} + t_{bound}$, resulting in stagnation when the window shifts."
   ]
  },
  {
   "cell_type": "markdown",
   "metadata": {
    "collapsed": true
   },
   "source": [
    "#### Capacity Constraints:\n",
    "\n",
    "- Prevent a robot from delivering more batteries than it is carrying.\n",
    "$$\\sum_{(i,j) \\in E}x_{ij}^k - 1 \\leq C^k - c^k \\quad \\forall k \\in K \\tag{12}$$\n",
    "\n",
    "- Delivery robots should return back to control center before depletig their own batteries.\n",
    "$$\\sum_{(i,j) \\in E} x^k_{ij}B_r^k(t_{ij}v) \\leq B^k \\quad \\forall k \\in K \\tag{13}$$"
   ]
  },
  {
   "cell_type": "markdown",
   "metadata": {
    "collapsed": true
   },
   "source": [
    "## Python Implementation\n",
    "\n",
    "\n",
    "Import `gurobipy` and other modules:"
   ]
  },
  {
   "cell_type": "code",
   "execution_count": 1,
   "metadata": {},
   "outputs": [
    {
     "name": "stdout",
     "output_type": "stream",
     "text": [
      "Pixiedust database opened successfully\n"
     ]
    },
    {
     "data": {
      "text/html": [
       "\n",
       "        <div style=\"margin:10px\">\n",
       "            <a href=\"https://github.com/ibm-watson-data-lab/pixiedust\" target=\"_new\">\n",
       "                <img src=\"https://github.com/ibm-watson-data-lab/pixiedust/raw/master/docs/_static/pd_icon32.png\" style=\"float:left;margin-right:10px\"/>\n",
       "            </a>\n",
       "            <span>Pixiedust version 1.1.14</span>\n",
       "        </div>\n",
       "        "
      ],
      "text/plain": [
       "<IPython.core.display.HTML object>"
      ]
     },
     "metadata": {},
     "output_type": "display_data"
    }
   ],
   "source": [
    "from gurobipy import *\n",
    "import random as rnd\n",
    "import math\n",
    "import pprint\n",
    "import numpy as np\n",
    "import pixiedust"
   ]
  },
  {
   "cell_type": "markdown",
   "metadata": {},
   "source": [
    "### Data definition"
   ]
  },
  {
   "cell_type": "markdown",
   "metadata": {
    "collapsed": true
   },
   "source": [
    "Define sets $K$, $T$ and $V$:"
   ]
  },
  {
   "cell_type": "code",
   "execution_count": 2,
   "metadata": {},
   "outputs": [
    {
     "name": "stdout",
     "output_type": "stream",
     "text": [
      "['K1', 'K2', 'T1', 'T2', 'T3', 'Start', 'End']\n"
     ]
    }
   ],
   "source": [
    "K = [\"K1\", \"K2\"]\n",
    "T = [\"T1\", \"T2\", \"T3\"]\n",
    "startNode = [\"Start\"]\n",
    "endNode = [\"End\"]\n",
    "V = K + T\n",
    "N = V + startNode + endNode\n",
    "print(N)"
   ]
  },
  {
   "cell_type": "markdown",
   "metadata": {},
   "source": [
    "Lets define locations of these sets as `dicts`"
   ]
  },
  {
   "cell_type": "code",
   "execution_count": 3,
   "metadata": {},
   "outputs": [
    {
     "name": "stdout",
     "output_type": "stream",
     "text": [
      "{'End': (77.03926045108022, 65.26890998855482),\n",
      " 'K1': (29.26085208764967, 37.55902528351535),\n",
      " 'K2': (33.411929810262166, 1.029048367048857),\n",
      " 'Start': (83.26519676445517, 3.40765633068707),\n",
      " 'T1': (68.53991252674112, 98.5208506680894),\n",
      " 'T2': (59.27422788140993, 76.82491381611615),\n",
      " 'T3': (80.92025915671542, 18.6763458380528)}\n"
     ]
    }
   ],
   "source": [
    "N = {nodeID: (100*rnd.random(), 100*rnd.random()) for nodeID in N }\n",
    "pprint.pprint(N)"
   ]
  },
  {
   "cell_type": "markdown",
   "metadata": {},
   "source": [
    "Lets define the arcs from '$Start$' node to all delivery robots:"
   ]
  },
  {
   "cell_type": "code",
   "execution_count": 4,
   "metadata": {},
   "outputs": [],
   "source": [
    "arcsStartK = [('Start', i) for i in K]\n",
    "# print(arcsStartK)"
   ]
  },
  {
   "cell_type": "markdown",
   "metadata": {},
   "source": [
    "Add weight to arcsStartK"
   ]
  },
  {
   "cell_type": "code",
   "execution_count": 5,
   "metadata": {},
   "outputs": [
    {
     "name": "stdout",
     "output_type": "stream",
     "text": [
      "{('Start', 'K1'): 0, ('Start', 'K2'): 0}\n"
     ]
    }
   ],
   "source": [
    "iter_arcsStartK = iter(arcsStartK)\n",
    "arcsStartK = tupledict([(x, 0) for x in iter_arcsStartK])\n",
    "print(arcsStartK)"
   ]
  },
  {
   "cell_type": "markdown",
   "metadata": {},
   "source": [
    "Lets add edges from delivery robots to task robots and to end node"
   ]
  },
  {
   "cell_type": "code",
   "execution_count": 6,
   "metadata": {},
   "outputs": [
    {
     "name": "stdout",
     "output_type": "stream",
     "text": [
      "[('K1', 'T1'), ('K1', 'T2'), ('K1', 'T3'), ('K1', 'End'), ('K2', 'T1'), ('K2', 'T2'), ('K2', 'T3'), ('K2', 'End')]\n"
     ]
    }
   ],
   "source": [
    "arcsKTEnd = [(i,j) for i in K for j in T + endNode]\n",
    "print (arcsKTEnd)"
   ]
  },
  {
   "cell_type": "markdown",
   "metadata": {},
   "source": [
    "Add weights to arcsKTEnd"
   ]
  },
  {
   "cell_type": "code",
   "execution_count": 7,
   "metadata": {},
   "outputs": [
    {
     "name": "stdout",
     "output_type": "stream",
     "text": [
      "{('K1', 'End'): 55.232363846836314,\n",
      " ('K1', 'T1'): 72.52026436243248,\n",
      " ('K1', 'T2'): 49.42279563917955,\n",
      " ('K1', 'T3'): 55.00227196914264,\n",
      " ('K2', 'End'): 77.65374298765964,\n",
      " ('K2', 'T1'): 103.627345259996,\n",
      " ('K2', 'T2'): 80.08665107678061,\n",
      " ('K2', 'T3'): 50.680059839360624}\n"
     ]
    }
   ],
   "source": [
    "iter_arcsKTEnd = iter(arcsKTEnd)\n",
    "arcsKTEnd = {t: np.linalg.norm(np.array(N.get(t[0]))-np.array(N.get(t[1]))) for t in iter_arcsKTEnd} \n",
    "pprint.pprint(arcsKTEnd)"
   ]
  },
  {
   "cell_type": "markdown",
   "metadata": {},
   "source": [
    "Lets also add edges from task robots to task robots and to end nodes"
   ]
  },
  {
   "cell_type": "code",
   "execution_count": 8,
   "metadata": {},
   "outputs": [
    {
     "name": "stdout",
     "output_type": "stream",
     "text": [
      "{('T1', 'End'): 34.320991741123294,\n",
      " ('T1', 'T2'): 23.591663524040367,\n",
      " ('T1', 'T3'): 80.79862581895841,\n",
      " ('T2', 'End'): 21.192866881667012,\n",
      " ('T2', 'T1'): 23.591663524040367,\n",
      " ('T2', 'T3'): 62.04680997336574,\n",
      " ('T3', 'End'): 46.75392160099288,\n",
      " ('T3', 'T1'): 80.79862581895841,\n",
      " ('T3', 'T2'): 62.04680997336574}\n"
     ]
    }
   ],
   "source": [
    "arcsTTEnd = [(i,j) for i in T for j in T + endNode if i!=j]\n",
    "iter_arcsTTEnd = iter(arcsTTEnd)\n",
    "arcsTTEnd = {t: np.linalg.norm(np.array(N.get(t[0]))-np.array(N.get(t[1]))) for t in iter_arcsTTEnd}\n",
    "pprint.pprint(arcsTTEnd)"
   ]
  },
  {
   "cell_type": "markdown",
   "metadata": {},
   "source": [
    "Combine the three dictionaries to get the final set of arcs"
   ]
  },
  {
   "cell_type": "code",
   "execution_count": 9,
   "metadata": {},
   "outputs": [
    {
     "name": "stdout",
     "output_type": "stream",
     "text": [
      "{('K1', 'End'): 55.232363846836314,\n",
      " ('K1', 'T1'): 72.52026436243248,\n",
      " ('K1', 'T2'): 49.42279563917955,\n",
      " ('K1', 'T3'): 55.00227196914264,\n",
      " ('K2', 'End'): 77.65374298765964,\n",
      " ('K2', 'T1'): 103.627345259996,\n",
      " ('K2', 'T2'): 80.08665107678061,\n",
      " ('K2', 'T3'): 50.680059839360624,\n",
      " ('Start', 'K1'): 0,\n",
      " ('Start', 'K2'): 0,\n",
      " ('T1', 'End'): 34.320991741123294,\n",
      " ('T1', 'T2'): 23.591663524040367,\n",
      " ('T1', 'T3'): 80.79862581895841,\n",
      " ('T2', 'End'): 21.192866881667012,\n",
      " ('T2', 'T1'): 23.591663524040367,\n",
      " ('T2', 'T3'): 62.04680997336574,\n",
      " ('T3', 'End'): 46.75392160099288,\n",
      " ('T3', 'T1'): 80.79862581895841,\n",
      " ('T3', 'T2'): 62.04680997336574}\n"
     ]
    }
   ],
   "source": [
    "arcs = {**arcsStartK, **arcsTTEnd, **arcsKTEnd}\n",
    "arcs = tupledict(arcs)\n",
    "pprint.pprint(arcs)"
   ]
  },
  {
   "cell_type": "markdown",
   "metadata": {},
   "source": [
    "Lets create sets of arcs for each charger robot"
   ]
  },
  {
   "cell_type": "code",
   "execution_count": 10,
   "metadata": {},
   "outputs": [
    {
     "name": "stdout",
     "output_type": "stream",
     "text": [
      "[('K1', ('T1', 'T2')),\n",
      " ('K1', ('T1', 'T3')),\n",
      " ('K1', ('T1', 'End')),\n",
      " ('K1', ('T2', 'T1')),\n",
      " ('K1', ('T2', 'T3')),\n",
      " ('K1', ('T2', 'End')),\n",
      " ('K1', ('T3', 'T1')),\n",
      " ('K1', ('T3', 'T2')),\n",
      " ('K1', ('T3', 'End')),\n",
      " ('K1', ('K1', 'T1')),\n",
      " ('K1', ('K1', 'T2')),\n",
      " ('K1', ('K1', 'T3')),\n",
      " ('K1', ('K1', 'End')),\n",
      " ('K2', ('T1', 'T2')),\n",
      " ('K2', ('T1', 'T3')),\n",
      " ('K2', ('T1', 'End')),\n",
      " ('K2', ('T2', 'T1')),\n",
      " ('K2', ('T2', 'T3')),\n",
      " ('K2', ('T2', 'End')),\n",
      " ('K2', ('T3', 'T1')),\n",
      " ('K2', ('T3', 'T2')),\n",
      " ('K2', ('T3', 'End')),\n",
      " ('K2', ('K2', 'T1')),\n",
      " ('K2', ('K2', 'T2')),\n",
      " ('K2', ('K2', 'T3')),\n",
      " ('K2', ('K2', 'End'))]\n"
     ]
    }
   ],
   "source": [
    "#kArcs = [(k,arc) for k in K for arc in arcs if arc[0]!='Start' or arc[0] in ]\n",
    "kArcs=[]\n",
    "for k in K:\n",
    "    for arc in arcs:\n",
    "        if arc[0]!='Start':\n",
    "            kMinusK= list(set(K) - set([k]))\n",
    "            if arc[0] not in kMinusK:\n",
    "                kArcs.append((k,arc))\n",
    "        \n",
    "\n",
    "\n",
    "pprint.pprint(kArcs)"
   ]
  },
  {
   "cell_type": "markdown",
   "metadata": {},
   "source": [
    "Lets add two more arcs from $Start$ to delivery robots. (Because the formulation requires I guess)"
   ]
  },
  {
   "cell_type": "code",
   "execution_count": 11,
   "metadata": {},
   "outputs": [
    {
     "name": "stdout",
     "output_type": "stream",
     "text": [
      "[('K1', ('T1', 'T2')),\n",
      " ('K1', ('T1', 'T3')),\n",
      " ('K1', ('T1', 'End')),\n",
      " ('K1', ('T2', 'T1')),\n",
      " ('K1', ('T2', 'T3')),\n",
      " ('K1', ('T2', 'End')),\n",
      " ('K1', ('T3', 'T1')),\n",
      " ('K1', ('T3', 'T2')),\n",
      " ('K1', ('T3', 'End')),\n",
      " ('K1', ('K1', 'T1')),\n",
      " ('K1', ('K1', 'T2')),\n",
      " ('K1', ('K1', 'T3')),\n",
      " ('K1', ('K1', 'End')),\n",
      " ('K2', ('T1', 'T2')),\n",
      " ('K2', ('T1', 'T3')),\n",
      " ('K2', ('T1', 'End')),\n",
      " ('K2', ('T2', 'T1')),\n",
      " ('K2', ('T2', 'T3')),\n",
      " ('K2', ('T2', 'End')),\n",
      " ('K2', ('T3', 'T1')),\n",
      " ('K2', ('T3', 'T2')),\n",
      " ('K2', ('T3', 'End')),\n",
      " ('K2', ('K2', 'T1')),\n",
      " ('K2', ('K2', 'T2')),\n",
      " ('K2', ('K2', 'T3')),\n",
      " ('K2', ('K2', 'End')),\n",
      " ('Start', 'K1'),\n",
      " ('Start', 'K2')]\n"
     ]
    }
   ],
   "source": [
    "finalArcs = kArcs + [arc for arc in arcsStartK]\n",
    "pprint.pprint(finalArcs)"
   ]
  },
  {
   "cell_type": "markdown",
   "metadata": {},
   "source": [
    "#### Parameters\n",
    "- $t_{ij}$ : Time to travel from node $i$ to node $j$.\n",
    "- $\\tau_i$ : Time when $i^{th}$ task robot requires delivery.\n",
    "- $T_s$ : Minimum stay time for a delivery robot to make a delivery; they may stay longer if needed. Can be increased to allow small movements of task robots.\n",
    "- $C^k$ : Maximum carrying capacity of the $k^{th}$ delivery robot.\n",
    "- $c^k$ : No. of resources already delivered by $k^{th}$ delivery robot during this time window.\n",
    "- $B^k$ : Fraction of total battery power remaining on the $k^{th}$ delivery robot.\n",
    "- $B^k_r$ : Average battery usage per unit distance travelled for the $k^{th}$ delivery robot, as fraction of total battery power.\n",
    "- $p_i \\in [0,1]$ : Priority of task robot $i$.\n",
    "- $T_{A,i}$ : Advance delivery time for $i^{th}$ task robot.\n",
    "- $Z$ : A very large positive constant.\n",
    "- $T_{start}$ : Time at which dispatch begins.\n",
    "- $T_W$ : Length of current time window.\n",
    "- $t_{bound}$ : Final time by which all delivery robots must reach the $End$ node. We set $t_{bound} = 3T_W/2$\n",
    "- $\\lambda$ : Control parameter governing the trade-off in the objective function."
   ]
  },
  {
   "cell_type": "code",
   "execution_count": 12,
   "metadata": {},
   "outputs": [
    {
     "name": "stdout",
     "output_type": "stream",
     "text": [
      "{'T1': 0.8493957009962281, 'T2': 0.397931571743358, 'T3': 0.2775036254897264}\n"
     ]
    }
   ],
   "source": [
    "t_ij = arcs                                            # Assuming v = 1\n",
    "T_W = 100000                                           # Lets assume a time window of 10000s\n",
    "tau_i = {nodeID: T_W*rnd.random() for nodeID in T}     # Assign random delivery times required for task robot i\n",
    "T_s = 10                                               # Assume 10s for Battery swap time\n",
    "C_k = 20                                               # Assume each delivery robot can carry 20 batteries\n",
    "cc_k = 5                                               # Assume 5 batteries have already been delivered by this robot.\n",
    "B_k = 10000                                            # Assume delivery robot can stay up for 10000s\n",
    "B_k_r = 1                                              # Assume 1 unit per travel distance uni\n",
    "p_i = {nodeID:rnd.random() for nodeID in T}                        # Assign random priorities to each task robot\n",
    "T_start = 1\n",
    "T_A_i = {nodeID: max(T_start+200 + \n",
    "             T_W*rnd.random(), T_W) for nodeID in T}   # Advance delivery time assigned to each task robot, \n",
    "                                                       # min T_start + 200 max T_W\n",
    "Z = 1e10                                               # A very large constant\n",
    "t_bound = 3*T_W/2                                      # Final time by which all delivery robots must reach the End node\n",
    "param_lambda = 0.4                                     # Randomly chosen tradeoff parameter for now\n",
    "pprint.pprint(p_i)"
   ]
  },
  {
   "cell_type": "markdown",
   "metadata": {},
   "source": [
    "### Model Generation\n",
    "\n",
    "Create empty named model object:"
   ]
  },
  {
   "cell_type": "code",
   "execution_count": 13,
   "metadata": {},
   "outputs": [],
   "source": [
    "#model = Model('FuelConstrainedRobots')"
   ]
  },
  {
   "cell_type": "markdown",
   "metadata": {},
   "source": [
    "#### Decision Variables\n",
    "Following are the decision variables (discussed above)\n",
    "- $x_{ij}^k \\in {0,1}$ : Binary. '$1$' only if $k^{th}$ delivery robot travels from node $i$ to $j$.\n",
    "- $a_i \\in \\mathbb{R}^+$ : Arrival time at node $i \\in (V - K)$\n",
    "- $d_i \\in \\mathbb{R}^+$ : Departure time from node $i \\in V$ "
   ]
  },
  {
   "cell_type": "code",
   "execution_count": 14,
   "metadata": {},
   "outputs": [
    {
     "name": "stdout",
     "output_type": "stream",
     "text": [
      "Academic license - for non-commercial use only\n",
      "Optimize a model with 0 rows, 44 columns and 0 nonzeros\n",
      "Variable types: 16 continuous, 28 integer (28 binary)\n",
      "Coefficient statistics:\n",
      "  Matrix range     [0e+00, 0e+00]\n",
      "  Objective range  [0e+00, 0e+00]\n",
      "  Bounds range     [1e+00, 1e+00]\n",
      "  RHS range        [0e+00, 0e+00]\n",
      "Found heuristic solution: objective 0.0000000\n",
      "\n",
      "Explored 0 nodes (0 simplex iterations) in 0.14 seconds\n",
      "Thread count was 1 (of 4 available processors)\n",
      "\n",
      "Solution count 1: 0 \n",
      "\n",
      "Optimal solution found (tolerance 1.00e-04)\n",
      "Best objective 0.000000000000e+00, best bound 0.000000000000e+00, gap 0.0000%\n",
      "\n",
      "\n",
      "Variable Names\n",
      "--------------\n",
      "x[K1,('T1', 'T2')]\n",
      "x[K1,('T1', 'T3')]\n",
      "x[K1,('T1', 'End')]\n",
      "x[K1,('T2', 'T1')]\n",
      "x[K1,('T2', 'T3')]\n",
      "x[K1,('T2', 'End')]\n",
      "x[K1,('T3', 'T1')]\n",
      "x[K1,('T3', 'T2')]\n",
      "x[K1,('T3', 'End')]\n",
      "x[K1,('K1', 'T1')]\n",
      "x[K1,('K1', 'T2')]\n",
      "x[K1,('K1', 'T3')]\n",
      "x[K1,('K1', 'End')]\n",
      "x[K2,('T1', 'T2')]\n",
      "x[K2,('T1', 'T3')]\n",
      "x[K2,('T1', 'End')]\n",
      "x[K2,('T2', 'T1')]\n",
      "x[K2,('T2', 'T3')]\n",
      "x[K2,('T2', 'End')]\n",
      "x[K2,('T3', 'T1')]\n",
      "x[K2,('T3', 'T2')]\n",
      "x[K2,('T3', 'End')]\n",
      "x[K2,('K2', 'T1')]\n",
      "x[K2,('K2', 'T2')]\n",
      "x[K2,('K2', 'T3')]\n",
      "x[K2,('K2', 'End')]\n",
      "x[Start,K1]\n",
      "x[Start,K2]\n",
      "a[K1,T1]\n",
      "a[K1,T2]\n",
      "a[K1,T3]\n",
      "a[K1,End]\n",
      "a[K2,T1]\n",
      "a[K2,T2]\n",
      "a[K2,T3]\n",
      "a[K2,End]\n",
      "d[K1,T1]\n",
      "d[K1,T2]\n",
      "d[K1,T3]\n",
      "d[K2,T1]\n",
      "d[K2,T2]\n",
      "d[K2,T3]\n",
      "d[K1,K1]\n",
      "d[K2,K2]\n"
     ]
    }
   ],
   "source": [
    "model = Model('FuelConstrainedRobots')\n",
    "x = model.addVars(finalArcs, name=\"x\", vtype=GRB.BINARY)\n",
    "# Generate Arrival Times Array, and then addVars\n",
    "VminusK = T  + endNode\n",
    "a = [(i,j) for i in K for j in VminusK]\n",
    "a = model.addVars(a, name = \"a\")\n",
    "# Generate Departure Times Array, and then addVars\n",
    "d = [(i,j) for i in K for j in T]\n",
    "# Also add departures from charger's own respective nodes\n",
    "d = d + [(i,j) for i in K for j in K if i==j]\n",
    "d = model.addVars(d, name = \"d\")\n",
    "\n",
    "\n",
    "# Print variable Names\n",
    "model.optimize()\n",
    "print(\"\\n\\nVariable Names\")\n",
    "print(\"--------------\")\n",
    "for v in model.getVars():\n",
    "    print(v.VarName)"
   ]
  },
  {
   "cell_type": "markdown",
   "metadata": {},
   "source": [
    "#### Objective Function\n",
    "As discussed above\n",
    "\n",
    "$$\\min\\limits_{x, a, d} \\{f_{time}(d) + \\lambda f_{travel}(x,a,d)\\}        \\tag{1}$$\n",
    "\n",
    "where\n",
    "\n",
    "$$f_{time}(d) = \\sum\\limits_{i \\in (V-K)}p_i(d_i - ( \\tau_i - T_{A,i}))^2$$\n",
    "\n",
    "and\n",
    "\n",
    "$$f_{travel}(x,a,d) = \\sum\\limits_{k \\in K}\\left(\\sum_{\\substack{(i,j) \\in E \\\\ j \\neq \\omega}} x_{ij}^k(a_j -d_i) + \\sum_{\\substack{(i,j) \\in E \\\\ j = \\omega}} x_{ij}^kt_{ij}\\right)$$"
   ]
  },
  {
   "cell_type": "code",
   "execution_count": 15,
   "metadata": {
    "pixiedust": {
     "displayParams": {}
    }
   },
   "outputs": [],
   "source": [
    "#%%pixie_debugger\n",
    "fTime = quicksum(p_i[ID]*(d[k,ID] - (tau_i[ID] - T_A_i[ID])) for ID in T for k in K)\n",
    "#print(fTime)\n",
    "#for nodePair in arcs.keys():\n",
    "#    print(nodePair)\n",
    "# Lets create two intermediate variables for the second expression\n",
    "varNotEnd = quicksum( x[k, nodePair]*(a[k, nodePair[1]]-d[k, nodePair[0]]) for (k, nodePair) in kArcs \n",
    "                     if nodePair[1]!='End' and nodePair[0] in V and nodePair[1] in V )\n",
    "\n",
    "varEnd =  quicksum( x[k, nodePair]*t_ij[nodePair] for k, nodePair in kArcs \n",
    "                     if nodePair[1]=='End' and nodePair[0] in N and nodePair[1] in N)\n",
    "\n",
    "fTravel = varNotEnd + varEnd\n",
    "\n",
    "objFun = fTime + param_lambda*fTravel\n",
    "\n",
    "model.setObjective(objFun, GRB.MINIMIZE)\n",
    "\n",
    "# Print variable Names\n",
    "#model.optimize()\n",
    "#print(\"\\n\\nVariable Names\")\n",
    "#print(\"--------------\")\n",
    "#for v in model.getVars():\n",
    "#    print(v.VarName)\n",
    "#print(varNotEnd)\n",
    "#print(\"\\n\\n\\n\")\n",
    "#pprint.pprint(varNotEnd)\n",
    "#pprint.pprint(varEnd)\n",
    "#pprint.pprint(fTravel)\n"
   ]
  },
  {
   "cell_type": "markdown",
   "metadata": {},
   "source": [
    "#### Path Continuity Constraints:\n",
    "- Each node $i$ should be visited by either only exactly 1 delivery robot or none.\n",
    "\n",
    "$$\\sum_{k \\in K} \\sum_{j \\in V \\cup \\{w\\}} x_{ij}^k \\leq 1 \\quad \\forall i \\in V \\tag{2}$$\n",
    "\n",
    "Allowing no visits provides flexibility if all nodes couldn't be served in the given time window.\n",
    "\n",
    "(As I understand, this mathematical form actually says that each 'edge' should be visited by at most one delivery robot.)\n"
   ]
  },
  {
   "cell_type": "code",
   "execution_count": 16,
   "metadata": {},
   "outputs": [],
   "source": [
    "c2 = model.addConstrs( (quicksum(x[k,nodePair]\n",
    "                        for k, nodePair in kArcs if z==nodePair ) <= 1 \n",
    "                              for z in [r[1] for r in kArcs ]), name=\"c2\")\n",
    "#model.write(\"x.lp\")\n",
    "# Verified by inspection"
   ]
  },
  {
   "cell_type": "markdown",
   "metadata": {},
   "source": [
    "- Impose pre-traversal from $Start$ node for each delivery robot.\n",
    "\n",
    "$$x_{\\alpha k} = 1 \\quad \\forall k \\in K \\tag {3}$$"
   ]
  },
  {
   "cell_type": "code",
   "execution_count": 17,
   "metadata": {
    "pixiedust": {
     "displayParams": {}
    }
   },
   "outputs": [
    {
     "name": "stdout",
     "output_type": "stream",
     "text": [
      "<gurobi.LinExpr: 0.0>\n",
      "<gurobi.LinExpr: x[Start,K1]>\n",
      "<gurobi.LinExpr: x[Start,K1] + x[Start,K2]>\n"
     ]
    }
   ],
   "source": [
    "#%%pixie_debugger\n",
    "expr = LinExpr(0.0)\n",
    "print(expr)\n",
    "for nodePair in arcsStartK:\n",
    "    expr.addTerms(1.0, x[nodePair])\n",
    "    print(expr)\n",
    "        \n",
    "\n",
    "\n",
    "#expr = (x[k, nodePair] == 1 for k,nodePair in kArcs\n",
    "#                       if nodePair[0] == 'Start' and nodePair[1] in K)\n",
    "#    \n",
    "#print (expr)\n",
    "#c3 = model.addConstrs(x[k, nodePair] == 1 for k,nodePair in kArcs\n",
    "#                       if nodePair[0] == 'Start' and nodePair[1] in K , name=\"c3\")\n",
    "c3 = model.addConstrs(((x[nodePair] == 1) for nodePair in arcsStartK), name=\"c3\")\n",
    "\n",
    "#model.write(\"x.lp\")\n",
    "# Vrified by inspection"
   ]
  },
  {
   "cell_type": "markdown",
   "metadata": {},
   "source": [
    "- Require delivery robots to arrive at $End$ nodes.\n",
    "\n",
    "$$\\sum_{i \\in V} x^k_{i\\omega} = 1 \\quad \\forall k \\in K \\tag {4}$$\n"
   ]
  },
  {
   "cell_type": "code",
   "execution_count": 18,
   "metadata": {},
   "outputs": [],
   "source": [
    "c4 = model.addConstrs((quicksum(x[k, nodePair] \n",
    "                        for k, nodePair in kArcs if nodePair[1] =='End' and z==k) == 1 for z in K),\n",
    "                                              name=\"c4\")\n",
    "#model.write(\"x.lp\")\n",
    "#Verified by inspection"
   ]
  },
  {
   "cell_type": "markdown",
   "metadata": {},
   "source": [
    "- If a delivery robot enters a node $h$, it should leave node $h$.\n",
    "\n",
    "$$\\sum_{i \\in \\{\\alpha\\} \\cup V} x_{ih}^k = \\sum_{j \\in \\{V - K\\} \\cup \\omega} x_{hj}^k, \\quad \\forall h \\in V, \\forall k \\in K \\tag{5} $$"
   ]
  },
  {
   "cell_type": "code",
   "execution_count": 19,
   "metadata": {},
   "outputs": [],
   "source": [
    "\n",
    "\n",
    "c5 = model.addConstrs((quicksum(x[k,(i,h)] for i in V if i!=h and i not in list(set(K) - set([k]))) == \n",
    "                      quicksum(x[k,(h,j)] for j in VminusK if h!=j and h not in list(set(K) - set([k]))) \n",
    "                       for h in T for k in K), name=\"c5\")\n",
    "#model.write(\"x.lp\")\n",
    "# Seems correct"
   ]
  },
  {
   "cell_type": "markdown",
   "metadata": {},
   "source": [
    "#### TIme Flow Constraints:\n",
    "\n",
    "- Arrival and departure times by the delivery robot at a task robot node should differ by at least $T_s$ to swap battery.\n",
    "\n",
    "$$a_i - d_i + T_s \\leq 0 \\quad \\forall i \\in (V-K) \\tag{6}$$\n"
   ]
  },
  {
   "cell_type": "code",
   "execution_count": 20,
   "metadata": {},
   "outputs": [],
   "source": [
    "c6 = model.addConstrs((d[k, i]-a[k, i]-T_s <= 0 for i in T for k in K), name=\"c6\")\n",
    "#model.write(\"x.lp\")\n",
    "#Verified by inspection"
   ]
  },
  {
   "cell_type": "markdown",
   "metadata": {},
   "source": [
    "- Departure from node $i$ and arrival at node $j$ must differ by at least the time $t_{ij}$ it takes to traverse the edge .\n",
    "\n",
    "$$d_i - a_j + t_{ij} \\leq Z \\left(1 - \\sum_{k \\in K}x_{ij}^k  \\right) \\quad \\forall (i,j) \\in E, j\\neq \\omega \\tag{7}$$\n"
   ]
  },
  {
   "cell_type": "code",
   "execution_count": 21,
   "metadata": {
    "pixiedust": {
     "displayParams": {}
    }
   },
   "outputs": [],
   "source": [
    "c7 = model.addConstrs((d[k, nodePair[0]]-a[k, nodePair[1]]+t_ij[nodePair] \n",
    "                       <= Z*(1 - (x[k,nodePair])) for k,nodePair in kArcs \n",
    "                                   if nodePair[0] not in K and nodePair[1] not in K and nodePair[1]!='End'), name=\"c7\")\n",
    "#model.write(\"x.lp\")\n",
    "# Inspected"
   ]
  },
  {
   "cell_type": "markdown",
   "metadata": {},
   "source": [
    "Large positive constant $Z$ ensures that if $(i, j)$ is not being traversed, the constraint is trivially satisfied.\n",
    "\n",
    "- Bound arrival and departure times. $t_{bound} > T_W$ gives delivery robots sufficient time to return bcak to control center.\n",
    "\n",
    "$$T_{start} \\leq a_i \\leq T_{start} + t_{bound} \\quad \\forall i \\in (V-K) \\tag{8}$$\n",
    "\n",
    "$$T_{start} \\leq d_i \\leq T_{start} + t_{bound} \\quad \\forall i \\in V \\tag{9}$$\n"
   ]
  },
  {
   "cell_type": "code",
   "execution_count": 197,
   "metadata": {},
   "outputs": [],
   "source": [
    "c8 = model.addConstrs(((T_start <= a[k,i] <= T_start + t_bound) for i in VminusK for k in K), name=\"c8\")\n",
    "c9 = model.addConstrs(((T_start <= d[k,i] <= T_start + t_bound) \n",
    "                       for i in V for k in K if i not in list(set(K) - set([k]))), name=\"c9\")\n",
    "#model.write(\"x.lp\")\n",
    "# Visually Inspected"
   ]
  },
  {
   "cell_type": "markdown",
   "metadata": {},
   "source": [
    "- $(10)$ coupled with $(9)$, ensure that departure time for node $i$ that is not visited by any delivery robot is $T_{start} + t_{bound}$. This also penalizes heavily for not serving robot $i$.\n",
    "\n",
    "$$T_{start} + t_{bound}\\left(1-\\sum_{k \\in K} \\sum_{j \\in V \\cup \\omega} x_{ij}^k \\right) \\leq d_i \\quad \\forall i \\in V \\tag{10}$$\n"
   ]
  },
  {
   "cell_type": "code",
   "execution_count": 198,
   "metadata": {},
   "outputs": [],
   "source": [
    "TplusEndNode = T+endNode\n",
    "c10 = model.addConstrs((T_start + t_bound*(1-quicksum(x[k,(i,j)] for j in TplusEndNode if i!=j)) <= d[k,i] \n",
    "                                                for i in T for k in K), name=\"c10\")\n",
    "#model.write(\"x.lp\")\n",
    "# Seems right"
   ]
  },
  {
   "cell_type": "markdown",
   "metadata": {},
   "source": [
    "- A delivery robot returning directly to the control center should start immediately at the begining of dispatch.\n",
    "\n",
    "$$d_k - Z(1-x^k_{k\\omega}) \\leq T_{start} \\quad \\forall k \\in K \\tag{11}$$"
   ]
  },
  {
   "cell_type": "code",
   "execution_count": 199,
   "metadata": {},
   "outputs": [],
   "source": [
    "c11 = model.addConstrs((d[k,k] - Z*(1-x[k, (k,'End')]) <= T_start for k in K), name=\"c11\")\n",
    "#model.write(\"x.lp\")\n",
    "#Verified by inspection"
   ]
  },
  {
   "cell_type": "markdown",
   "metadata": {},
   "source": [
    "without this constraint, delivery robots directly returning to the control center will have their departure time set as $T_{start} + t_{bound}$, resulting in stagnation when the window shifts."
   ]
  },
  {
   "cell_type": "markdown",
   "metadata": {},
   "source": [
    "#### Capacity Constraints:\n",
    "\n",
    "- Prevent a robot from delivering more batteries than it is carrying.\n",
    "$$\\sum_{(i,j) \\in E}x_{ij}^k - 1 \\leq C^k - c^k \\quad \\forall k \\in K \\tag{12}$$\n",
    "\n",
    "\n",
    "The above constraint does noe seem to consider the fact that no battery is required for the last edge when travelling to the end node. In the following implementation I am considering that as experiment."
   ]
  },
  {
   "cell_type": "code",
   "execution_count": 200,
   "metadata": {},
   "outputs": [],
   "source": [
    "c12 = model.addConstrs((quicksum(x[k, nodePair] for k,nodePair in kArcs if k == z and nodePair[1]!='End') - 1 \n",
    "                       <= C_k - cc_k for z in K), name=\"c12\")\n",
    "# model.write(\"x.lp\")\n",
    "# Verified by inspection"
   ]
  },
  {
   "cell_type": "markdown",
   "metadata": {},
   "source": [
    "- Delivery robots should return back to control center before depletig their own batteries.\n",
    "$$\\sum_{(i,j) \\in E} x^k_{ij}B_r^k(t_{ij}v) \\leq B^k \\quad \\forall k \\in K \\tag{13}$$"
   ]
  },
  {
   "cell_type": "code",
   "execution_count": 201,
   "metadata": {
    "pixiedust": {
     "displayParams": {}
    }
   },
   "outputs": [],
   "source": [
    "#%%pixie_debugger\n",
    "c13 = model.addConstrs((quicksum(x[k,nodePair]*B_k_r*t_ij[nodePair]*1 \n",
    "                            for k, nodePair in kArcs if nodePair[0] not in list(set(K) - set([k])) and z==k ) <= B_k \n",
    "                                        for z in K ) , name=\"c13\") # Assuming v=1\n",
    "#model.write(\"x.lp\")\n",
    "# Verified by inspection"
   ]
  },
  {
   "cell_type": "markdown",
   "metadata": {},
   "source": [
    "# Solving the model"
   ]
  },
  {
   "cell_type": "code",
   "execution_count": 202,
   "metadata": {},
   "outputs": [
    {
     "name": "stdout",
     "output_type": "stream",
     "text": [
      "Optimize a model with 82 rows, 44 columns and 226 nonzeros\n",
      "Model has 36 quadratic objective terms\n",
      "Variable types: 16 continuous, 28 integer (28 binary)\n",
      "Coefficient statistics:\n",
      "  Matrix range     [1e+00, 1e+10]\n",
      "  Objective range  [5e-01, 4e+01]\n",
      "  QObjective range [8e-01, 8e-01]\n",
      "  Bounds range     [1e+00, 1e+00]\n",
      "  RHS range        [1e+00, 1e+10]\n",
      "Warning: Model contains large matrix coefficients\n",
      "Warning: Model contains large rhs\n",
      "         Consider reformulating model or setting NumericFocus parameter\n",
      "         to avoid numerical issues.\n",
      "\n",
      "MIP start did not produce a new incumbent solution\n",
      "MIP start violates constraint c3[Start,K1] by 1.000000000\n",
      "\n",
      "Found heuristic solution: objective 633113.20628\n",
      "Presolve removed 39 rows and 4 columns\n",
      "Presolve time: 0.03s\n",
      "Presolved: 79 rows, 76 columns, 246 nonzeros\n",
      "Found heuristic solution: objective 633112.40628\n",
      "Variable types: 42 continuous, 34 integer (26 binary)\n",
      "Found heuristic solution: objective 513112.40628\n",
      "\n",
      "Root relaxation: objective 6.247364e+04, 49 iterations, 0.01 seconds\n",
      "\n",
      "    Nodes    |    Current Node    |     Objective Bounds      |     Work\n",
      " Expl Unexpl |  Obj  Depth IntInf | Incumbent    BestBd   Gap | It/Node Time\n",
      "\n",
      "     0     0 62473.6369    0   19 513112.406 62473.6369  87.8%     -    0s\n",
      "H    0     0                    225849.92632 62473.6369  72.3%     -    0s\n",
      "H    0     0                    182692.14627 62473.6369  65.8%     -    0s\n",
      "     0     0 63694.3830    0   15 182692.146 63694.3830  65.1%     -    0s\n",
      "H    0     0                    182638.63237 63694.3830  65.1%     -    0s\n",
      "H    0     0                    103686.14020 63694.3830  38.6%     -    0s\n",
      "     0     0 64538.7277    0   15 103686.140 64538.7277  37.8%     -    0s\n",
      "     0     0 80728.3471    0   19 103686.140 80728.3471  22.1%     -    0s\n",
      "H    0     0                    103646.32945 80728.3471  22.1%     -    0s\n",
      "     0     0 80728.3471    0   19 103646.329 80728.3471  22.1%     -    0s\n",
      "     0     0 89874.0647    0   22 103646.329 89874.0647  13.3%     -    0s\n",
      "     0     0 89874.0647    0   21 103646.329 89874.0647  13.3%     -    0s\n",
      "     0     2 89874.0647    0   20 103646.329 89874.0647  13.3%     -    0s\n",
      "H    3     6                    103630.40579 96088.8101  7.28%  10.0    0s\n",
      "*   12     6               7    103620.61633 103541.097  0.08%   8.8    0s\n",
      "*   16     7               8    103617.43570 103541.097  0.07%   8.7    0s\n",
      "\n",
      "Cutting planes:\n",
      "  Implied bound: 2\n",
      "  MIR: 3\n",
      "\n",
      "Explored 65 nodes (618 simplex iterations) in 0.17 seconds\n",
      "Thread count was 4 (of 4 available processors)\n",
      "\n",
      "Solution count 10: 103617 103621 103630 ... 633112\n",
      "\n",
      "Optimal solution found (tolerance 1.00e-04)\n",
      "Best objective 1.036174357037e+05, best bound 1.036174357037e+05, gap 0.0000%\n"
     ]
    }
   ],
   "source": [
    "model.optimize()"
   ]
  },
  {
   "cell_type": "markdown",
   "metadata": {},
   "source": [
    "# Display solution values for all variables (with non-zero values):"
   ]
  },
  {
   "cell_type": "code",
   "execution_count": 203,
   "metadata": {
    "scrolled": false
   },
   "outputs": [
    {
     "name": "stdout",
     "output_type": "stream",
     "text": [
      "\n",
      "    Variable            x \n",
      "-------------------------\n",
      "x[K1,('T1', 'T3')]            1 \n",
      "x[K1,('T2', 'End')]            1 \n",
      "x[K1,('T3', 'T2')]            1 \n",
      "x[K1,('K1', 'T1')]            1 \n",
      "x[K2,('T1', 'T2')]            1 \n",
      "x[K2,('T2', 'T3')]            1 \n",
      "x[K2,('T3', 'End')]            1 \n",
      "x[K2,('K2', 'T1')]            1 \n",
      " x[Start,K1]            1 \n",
      " x[Start,K2]            1 \n",
      "    a[K1,T2]      36.8642 \n",
      "    a[K1,T3]      76.6734 \n",
      "    a[K2,T2]      69.2894 \n",
      "    a[K2,T3]      36.8642 \n",
      "    d[K1,T1]            1 \n",
      "    d[K1,T2]            1 \n",
      "    d[K1,T3]            1 \n",
      "    d[K2,T1]            1 \n",
      "    d[K2,T2]            1 \n",
      "    d[K2,T3]            1 \n",
      "    d[K1,K1]       150001 \n",
      "    d[K2,K2]       150001 \n"
     ]
    }
   ],
   "source": [
    "model.printAttr('x')"
   ]
  },
  {
   "cell_type": "code",
   "execution_count": 204,
   "metadata": {},
   "outputs": [
    {
     "name": "stdout",
     "output_type": "stream",
     "text": [
      "Warning: variable name \"x[K1,('T1', 'T2')]\" has a space\n",
      "Warning: constraint name \"c7[K1,('T1', 'T2')]\" has a space\n",
      "Warning: to let Gurobi read it back, use rlp format\n"
     ]
    }
   ],
   "source": [
    "model.write(\"x.lp\")"
   ]
  },
  {
   "cell_type": "code",
   "execution_count": null,
   "metadata": {},
   "outputs": [],
   "source": []
  }
 ],
 "metadata": {
  "anaconda-cloud": {},
  "kernelspec": {
   "display_name": "Python 3",
   "language": "python",
   "name": "python3"
  },
  "language_info": {
   "codemirror_mode": {
    "name": "ipython",
    "version": 3
   },
   "file_extension": ".py",
   "mimetype": "text/x-python",
   "name": "python",
   "nbconvert_exporter": "python",
   "pygments_lexer": "ipython3",
   "version": "3.7.0"
  },
  "nbpresent": {
   "slides": {
    "186f5a6b-2f4f-4810-9031-a355cb9b58d9": {
     "id": "186f5a6b-2f4f-4810-9031-a355cb9b58d9",
     "prev": "e306545e-7fd6-47f6-a6b7-9bbbd2f27289",
     "regions": {}
    },
    "1f1d886f-101b-4bb6-a46c-b805cbde66ed": {
     "id": "1f1d886f-101b-4bb6-a46c-b805cbde66ed",
     "prev": "312e27ad-e418-4310-a3cb-cec97bc21e5f",
     "regions": {
      "97e7af79-87d5-4274-a989-159065ca185f": {
       "attrs": {
        "height": 0.8,
        "width": 0.8,
        "x": 0.1,
        "y": 0.1
       },
       "content": {
        "cell": "30157f33-8d1c-416b-9f88-f4ca6747063b",
        "part": "whole"
       },
       "id": "97e7af79-87d5-4274-a989-159065ca185f"
      }
     }
    },
    "25b82577-e4e0-4bc4-8684-31ce9b9fe9eb": {
     "id": "25b82577-e4e0-4bc4-8684-31ce9b9fe9eb",
     "layout": "manual",
     "prev": null,
     "regions": {
      "39826a0c-0845-4fa6-983f-fa88df09a383": {
       "attrs": {
        "height": 0.7177304964539007,
        "width": 0.9053191489361704,
        "x": 0.04494680851063829,
        "y": 0.23900709219858157
       },
       "content": {
        "cell": "e707e591-0c39-4365-9fec-6c7687f3a21d",
        "part": "source"
       },
       "id": "39826a0c-0845-4fa6-983f-fa88df09a383"
      },
      "adf00727-23d0-461d-9fc2-872e7054e0f6": {
       "attrs": {
        "height": 0.15177304964539007,
        "width": 0.9675531914893616,
        "x": 0.015425531914893738,
        "y": 0.03049645390070922
       },
       "content": {
        "cell": "34bc9e52-9cc7-4b84-9eb7-b69310832121",
        "part": "source"
       },
       "id": "adf00727-23d0-461d-9fc2-872e7054e0f6"
      }
     },
     "theme": null
    },
    "312e27ad-e418-4310-a3cb-cec97bc21e5f": {
     "id": "312e27ad-e418-4310-a3cb-cec97bc21e5f",
     "prev": "9b013ffc-acd5-4452-add0-4543e34c7955",
     "regions": {
      "94f8428b-8539-4609-84be-2c30160a99f2": {
       "attrs": {
        "height": 0.8,
        "width": 0.8,
        "x": 0.1,
        "y": 0.1
       },
       "content": {
        "cell": "a93d55f0-8415-494f-937c-5b4c5e4a83ec",
        "part": "whole"
       },
       "id": "94f8428b-8539-4609-84be-2c30160a99f2"
      }
     }
    },
    "6dbc2427-3519-4d05-8a12-d2342824f17d": {
     "id": "6dbc2427-3519-4d05-8a12-d2342824f17d",
     "prev": "b585ea08-0f7c-4b29-bffd-d0527c18339f",
     "regions": {
      "651a7f56-6b3e-4344-a5da-a929f0b5d0b6": {
       "attrs": {
        "height": 0.8,
        "width": 0.8,
        "x": 0.1,
        "y": 0.1
       },
       "content": {
        "cell": "6c79fc98-c9ba-4870-ad1d-094702d23aec",
        "part": "whole"
       },
       "id": "651a7f56-6b3e-4344-a5da-a929f0b5d0b6"
      }
     }
    },
    "981cc8e9-c72a-4200-ba0c-cbba24938055": {
     "id": "981cc8e9-c72a-4200-ba0c-cbba24938055",
     "prev": "186f5a6b-2f4f-4810-9031-a355cb9b58d9",
     "regions": {
      "502bcc7b-9811-4106-ae49-1237986be9f2": {
       "attrs": {
        "height": 0.8,
        "width": 0.8,
        "x": 0.1,
        "y": 0.1
       },
       "content": {
        "cell": "8a0f32e0-5615-48df-965e-5f4dcd790eb7",
        "part": "whole"
       },
       "id": "502bcc7b-9811-4106-ae49-1237986be9f2"
      }
     }
    },
    "9b013ffc-acd5-4452-add0-4543e34c7955": {
     "id": "9b013ffc-acd5-4452-add0-4543e34c7955",
     "prev": "9b092894-7141-4f0c-a1b0-f3223173c018",
     "regions": {
      "d3dc95f4-b7e9-404f-bc67-6eb1ae1bd15a": {
       "attrs": {
        "height": 0.8,
        "width": 0.8,
        "x": 0.1,
        "y": 0.1
       },
       "content": {
        "cell": "14663cbf-e197-4624-8d02-8164aeab630e",
        "part": "whole"
       },
       "id": "d3dc95f4-b7e9-404f-bc67-6eb1ae1bd15a"
      }
     }
    },
    "9b092894-7141-4f0c-a1b0-f3223173c018": {
     "id": "9b092894-7141-4f0c-a1b0-f3223173c018",
     "prev": "981cc8e9-c72a-4200-ba0c-cbba24938055",
     "regions": {
      "ed06157c-045c-42f1-a221-e81b0c9b1c96": {
       "attrs": {
        "height": 0.8,
        "width": 0.8,
        "x": 0.1,
        "y": 0.1
       },
       "content": {
        "cell": "25919802-1e86-4e96-97ac-f937e5445970",
        "part": "whole"
       },
       "id": "ed06157c-045c-42f1-a221-e81b0c9b1c96"
      }
     }
    },
    "b585ea08-0f7c-4b29-bffd-d0527c18339f": {
     "id": "b585ea08-0f7c-4b29-bffd-d0527c18339f",
     "prev": "c5e3a931-78de-4da1-9aae-6a07a68da267",
     "regions": {
      "dda9817a-0e58-4e1c-aa40-e346883da21d": {
       "attrs": {
        "height": 0.8,
        "width": 0.8,
        "x": 0.1,
        "y": 0.1
       },
       "content": {
        "cell": "c04d243e-3547-4535-bd84-fe6e2e450a76",
        "part": "whole"
       },
       "id": "dda9817a-0e58-4e1c-aa40-e346883da21d"
      }
     }
    },
    "c5e3a931-78de-4da1-9aae-6a07a68da267": {
     "id": "c5e3a931-78de-4da1-9aae-6a07a68da267",
     "prev": "25b82577-e4e0-4bc4-8684-31ce9b9fe9eb",
     "regions": {
      "0ad951b9-da76-49b6-96a1-cae40a43d4bf": {
       "attrs": {
        "height": 0.8,
        "width": 0.8,
        "x": 0.1,
        "y": 0.1
       },
       "id": "0ad951b9-da76-49b6-96a1-cae40a43d4bf"
      }
     }
    },
    "e306545e-7fd6-47f6-a6b7-9bbbd2f27289": {
     "id": "e306545e-7fd6-47f6-a6b7-9bbbd2f27289",
     "prev": "e6ba3e35-cc6a-4768-b053-0072595ab40b",
     "regions": {}
    },
    "e6ba3e35-cc6a-4768-b053-0072595ab40b": {
     "id": "e6ba3e35-cc6a-4768-b053-0072595ab40b",
     "prev": "6dbc2427-3519-4d05-8a12-d2342824f17d",
     "regions": {
      "eeea6e33-6efd-48be-9cc1-dffe2841b64b": {
       "attrs": {
        "height": 0.8,
        "width": 0.8,
        "x": 0.1,
        "y": 0.1
       },
       "content": {
        "cell": "94a21acb-2f9e-44dd-84e2-4b388545c355",
        "part": "whole"
       },
       "id": "eeea6e33-6efd-48be-9cc1-dffe2841b64b"
      }
     }
    }
   },
   "themes": {}
  }
 },
 "nbformat": 4,
 "nbformat_minor": 1
}
